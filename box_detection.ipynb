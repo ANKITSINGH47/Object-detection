{
  "nbformat": 4,
  "nbformat_minor": 0,
  "metadata": {
    "colab": {
      "provenance": []
    },
    "kernelspec": {
      "name": "python3",
      "display_name": "Python 3"
    },
    "language_info": {
      "name": "python"
    }
  },
  "cells": [
    {
      "cell_type": "code",
      "execution_count": 1,
      "metadata": {
        "id": "ghre9JlcIbaH"
      },
      "outputs": [],
      "source": [
        "import numpy as np\n",
        "from matplotlib import pyplot as plt\n",
        "from tensorflow.keras.layers import Flatten, Dense\n",
        "from tensorflow.keras.models import Model\n",
        "from tensorflow.keras.optimizers import Adam, SGD\n",
        "import tensorflow as tf\n"
      ]
    },
    {
      "cell_type": "code",
      "source": [
        "vgg = tf.keras.applications.VGG16(\n",
        "    input_shape=[100, 100, 3], include_top=False, weights='imagenet')"
      ],
      "metadata": {
        "colab": {
          "base_uri": "https://localhost:8080/"
        },
        "id": "Fof0TY8fIgwI",
        "outputId": "f1e60ea2-f79f-4cc4-c919-214aaa08de6a"
      },
      "execution_count": 2,
      "outputs": [
        {
          "output_type": "stream",
          "name": "stdout",
          "text": [
            "Downloading data from https://storage.googleapis.com/tensorflow/keras-applications/vgg16/vgg16_weights_tf_dim_ordering_tf_kernels_notop.h5\n",
            "58889256/58889256 [==============================] - 0s 0us/step\n"
          ]
        }
      ]
    },
    {
      "cell_type": "code",
      "source": [
        "x = Flatten()(vgg.output)\n",
        "x = Dense(4, activation='sigmoid')(x)\n",
        "model = Model(vgg.input, x)"
      ],
      "metadata": {
        "id": "IkcrT6r1Iqcr"
      },
      "execution_count": 3,
      "outputs": []
    },
    {
      "cell_type": "code",
      "source": [
        "def image_generator(batch_size=10):\n",
        "  # generate image and targets\n",
        "  while True:\n",
        "    # Each epoch will have 50 batches. Why? No reason\n",
        "    for _ in range(10):\n",
        "      X = np.zeros((batch_size, 100, 100, 3))\n",
        "      Y = np.zeros((batch_size, 4))\n",
        "\n",
        "      for i in range(batch_size):\n",
        "        # make the boxes and store their location in target\n",
        "        row0 = np.random.randint(90)\n",
        "        col0 = np.random.randint(90)\n",
        "        row1 = np.random.randint(row0, 100)\n",
        "        col1 = np.random.randint(col0, 100)\n",
        "        X[i,row0:row1,col0:col1,:] = 1\n",
        "        Y[i,0] = row0/100.\n",
        "        Y[i,1] = col0/100.\n",
        "        Y[i,2] = (row1 - row0)/100.\n",
        "        Y[i,3] = (col1 - col0)/100.\n",
        "\n",
        "      yield X, Y"
      ],
      "metadata": {
        "id": "3Umd5NIhI3TW"
      },
      "execution_count": 4,
      "outputs": []
    },
    {
      "cell_type": "code",
      "source": [
        "model.compile(loss='binary_crossentropy', optimizer=Adam(lr=0.01))"
      ],
      "metadata": {
        "colab": {
          "base_uri": "https://localhost:8080/"
        },
        "id": "3f28icl4Jarv",
        "outputId": "69031d01-6f39-4a3e-99a5-06ea27d9dc66"
      },
      "execution_count": 5,
      "outputs": [
        {
          "output_type": "stream",
          "name": "stderr",
          "text": [
            "WARNING:absl:`lr` is deprecated in Keras optimizer, please use `learning_rate` or use the legacy optimizer, e.g.,tf.keras.optimizers.legacy.Adam.\n"
          ]
        }
      ]
    },
    {
      "cell_type": "code",
      "source": [
        "model.fit_generator(\n",
        "    image_generator(),\n",
        "    steps_per_epoch=10,\n",
        "    epochs=30,\n",
        ")"
      ],
      "metadata": {
        "colab": {
          "base_uri": "https://localhost:8080/"
        },
        "id": "KpLcu1-WJohH",
        "outputId": "a63c3038-c033-4864-af64-b7df64dc368e"
      },
      "execution_count": 21,
      "outputs": [
        {
          "output_type": "stream",
          "name": "stdout",
          "text": [
            "Epoch 1/30\n"
          ]
        },
        {
          "output_type": "stream",
          "name": "stderr",
          "text": [
            "<ipython-input-21-54071e4cd9f5>:1: UserWarning: `Model.fit_generator` is deprecated and will be removed in a future version. Please use `Model.fit`, which supports generators.\n",
            "  model.fit_generator(\n"
          ]
        },
        {
          "output_type": "stream",
          "name": "stdout",
          "text": [
            "10/10 [==============================] - 48s 5s/step - loss: 0.5379\n",
            "Epoch 2/30\n",
            "10/10 [==============================] - 47s 5s/step - loss: 0.5205\n",
            "Epoch 3/30\n",
            "10/10 [==============================] - 47s 5s/step - loss: 0.5218\n",
            "Epoch 4/30\n",
            "10/10 [==============================] - 47s 5s/step - loss: 0.5176\n",
            "Epoch 5/30\n",
            "10/10 [==============================] - 46s 5s/step - loss: 0.5082\n",
            "Epoch 6/30\n",
            "10/10 [==============================] - 47s 5s/step - loss: 0.5088\n",
            "Epoch 7/30\n",
            "10/10 [==============================] - 46s 5s/step - loss: 0.5336\n",
            "Epoch 8/30\n",
            "10/10 [==============================] - 47s 5s/step - loss: 0.5299\n",
            "Epoch 9/30\n",
            "10/10 [==============================] - 48s 5s/step - loss: 0.5437\n",
            "Epoch 10/30\n",
            "10/10 [==============================] - 47s 5s/step - loss: 0.5446\n",
            "Epoch 11/30\n",
            "10/10 [==============================] - 47s 5s/step - loss: 0.5227\n",
            "Epoch 12/30\n",
            "10/10 [==============================] - 46s 5s/step - loss: 0.5121\n",
            "Epoch 13/30\n",
            "10/10 [==============================] - 47s 5s/step - loss: 0.5048\n",
            "Epoch 14/30\n",
            "10/10 [==============================] - 46s 5s/step - loss: 0.5244\n",
            "Epoch 15/30\n",
            "10/10 [==============================] - 47s 5s/step - loss: 0.5128\n",
            "Epoch 16/30\n",
            "10/10 [==============================] - 46s 5s/step - loss: 0.5255\n",
            "Epoch 17/30\n",
            "10/10 [==============================] - 47s 5s/step - loss: 0.5051\n",
            "Epoch 18/30\n",
            "10/10 [==============================] - 47s 5s/step - loss: 0.5196\n",
            "Epoch 19/30\n",
            "10/10 [==============================] - 45s 5s/step - loss: 0.5004\n",
            "Epoch 20/30\n",
            "10/10 [==============================] - 47s 5s/step - loss: 0.5224\n",
            "Epoch 21/30\n",
            "10/10 [==============================] - 46s 5s/step - loss: 0.5082\n",
            "Epoch 22/30\n",
            "10/10 [==============================] - 47s 5s/step - loss: 0.5138\n",
            "Epoch 23/30\n",
            "10/10 [==============================] - 46s 5s/step - loss: 0.5116\n",
            "Epoch 24/30\n",
            "10/10 [==============================] - 47s 5s/step - loss: 0.5096\n",
            "Epoch 25/30\n",
            "10/10 [==============================] - 47s 5s/step - loss: 0.5215\n",
            "Epoch 26/30\n",
            "10/10 [==============================] - 47s 5s/step - loss: 0.5146\n",
            "Epoch 27/30\n",
            "10/10 [==============================] - 47s 5s/step - loss: 0.5137\n",
            "Epoch 28/30\n",
            "10/10 [==============================] - 46s 5s/step - loss: 0.5111\n",
            "Epoch 29/30\n",
            "10/10 [==============================] - 47s 5s/step - loss: 0.4912\n",
            "Epoch 30/30\n",
            "10/10 [==============================] - 46s 5s/step - loss: 0.5113\n"
          ]
        },
        {
          "output_type": "execute_result",
          "data": {
            "text/plain": [
              "<keras.callbacks.History at 0x7e339d9c5120>"
            ]
          },
          "metadata": {},
          "execution_count": 21
        }
      ]
    },
    {
      "cell_type": "code",
      "source": [
        "from matplotlib.patches import Rectangle\n",
        "\n",
        "# Make predictions\n",
        "def make_prediction():\n",
        "  # Generate a random image\n",
        "  x = np.zeros((100, 100, 3))\n",
        "  row0 = np.random.randint(90)\n",
        "  col0 = np.random.randint(90)\n",
        "  row1 = np.random.randint(row0, 100)\n",
        "  col1 = np.random.randint(col0, 100)\n",
        "  x[row0:row1,col0:col1,:] = 1\n",
        "  print(row0, col0, row1, col1)\n",
        "\n",
        "  # Predict\n",
        "  X = np.expand_dims(x, 0)\n",
        "  p = model.predict(X)[0]\n",
        "\n",
        "  # Draw the box\n",
        "  fig, ax = plt.subplots(1)\n",
        "  ax.imshow(x)\n",
        "  rect = Rectangle(\n",
        "      (p[1]*100, p[0]*100),\n",
        "      p[3]*100, p[2]*100,linewidth=1,edgecolor='r',facecolor='none')\n",
        "  ax.add_patch(rect)\n",
        "  plt.show()"
      ],
      "metadata": {
        "id": "OaUxgXk9NZQc"
      },
      "execution_count": 22,
      "outputs": []
    },
    {
      "cell_type": "code",
      "source": [
        "make_prediction()"
      ],
      "metadata": {
        "colab": {
          "base_uri": "https://localhost:8080/",
          "height": 468
        },
        "id": "nZgODtfANe4S",
        "outputId": "161e6193-6b97-4600-8e5a-b875b22ec516"
      },
      "execution_count": 23,
      "outputs": [
        {
          "output_type": "stream",
          "name": "stdout",
          "text": [
            "51 44 90 73\n",
            "1/1 [==============================] - 0s 129ms/step\n"
          ]
        },
        {
          "output_type": "display_data",
          "data": {
            "text/plain": [
              "<Figure size 640x480 with 1 Axes>"
            ],
            "image/png": "[encoded data removed]"
          },
          "metadata": {}
        }
      ]
    }
  ]
}